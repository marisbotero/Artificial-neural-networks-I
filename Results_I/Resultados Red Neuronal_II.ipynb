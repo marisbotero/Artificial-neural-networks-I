{
 "cells": [
  {
   "cell_type": "markdown",
   "metadata": {},
   "source": [
    "# Resultados primer experimento  Red Neuronal Recurrente para material particulado"
   ]
  },
  {
   "cell_type": "code",
   "execution_count": 1,
   "metadata": {},
   "outputs": [],
   "source": [
    "import numpy as np\n",
    "import pandas as pd\n",
    "\n",
    "import matplotlib.pyplot as plt\n",
    "%matplotlib inline"
   ]
  },
  {
   "cell_type": "code",
   "execution_count": 8,
   "metadata": {},
   "outputs": [],
   "source": [
    "result = pd.read_csv('Desktop/TFM/result_1.csv',index_col='fecha')"
   ]
  },
  {
   "cell_type": "code",
   "execution_count": 9,
   "metadata": {},
   "outputs": [
    {
     "data": {
      "text/html": [
       "<div>\n",
       "<style>\n",
       "    .dataframe thead tr:only-child th {\n",
       "        text-align: right;\n",
       "    }\n",
       "\n",
       "    .dataframe thead th {\n",
       "        text-align: left;\n",
       "    }\n",
       "\n",
       "    .dataframe tbody tr th {\n",
       "        vertical-align: top;\n",
       "    }\n",
       "</style>\n",
       "<table border=\"1\" class=\"dataframe\">\n",
       "  <thead>\n",
       "    <tr style=\"text-align: right;\">\n",
       "      <th></th>\n",
       "      <th>pm25</th>\n",
       "      <th>Generated</th>\n",
       "    </tr>\n",
       "    <tr>\n",
       "      <th>fecha</th>\n",
       "      <th></th>\n",
       "      <th></th>\n",
       "    </tr>\n",
       "  </thead>\n",
       "  <tbody>\n",
       "    <tr>\n",
       "      <th>2017-02-28 12:00:00</th>\n",
       "      <td>42</td>\n",
       "      <td>18.217714</td>\n",
       "    </tr>\n",
       "    <tr>\n",
       "      <th>2017-02-28 12:00:00</th>\n",
       "      <td>38</td>\n",
       "      <td>19.947704</td>\n",
       "    </tr>\n",
       "    <tr>\n",
       "      <th>2017-02-28 13:00:00</th>\n",
       "      <td>49</td>\n",
       "      <td>22.748569</td>\n",
       "    </tr>\n",
       "    <tr>\n",
       "      <th>2017-02-28 13:00:00</th>\n",
       "      <td>33</td>\n",
       "      <td>25.670521</td>\n",
       "    </tr>\n",
       "    <tr>\n",
       "      <th>2017-02-28 14:00:00</th>\n",
       "      <td>48</td>\n",
       "      <td>27.418135</td>\n",
       "    </tr>\n",
       "  </tbody>\n",
       "</table>\n",
       "</div>"
      ],
      "text/plain": [
       "                     pm25  Generated\n",
       "fecha                               \n",
       "2017-02-28 12:00:00    42  18.217714\n",
       "2017-02-28 12:00:00    38  19.947704\n",
       "2017-02-28 13:00:00    49  22.748569\n",
       "2017-02-28 13:00:00    33  25.670521\n",
       "2017-02-28 14:00:00    48  27.418135"
      ]
     },
     "execution_count": 9,
     "metadata": {},
     "output_type": "execute_result"
    }
   ],
   "source": [
    "result.head()"
   ]
  },
  {
   "cell_type": "code",
   "execution_count": 10,
   "metadata": {},
   "outputs": [],
   "source": [
    "result.index = pd.to_datetime(result.index)\n"
   ]
  },
  {
   "cell_type": "code",
   "execution_count": 11,
   "metadata": {},
   "outputs": [
    {
     "data": {
      "text/plain": [
       "<matplotlib.axes._subplots.AxesSubplot at 0x1f287f3cef0>"
      ]
     },
     "execution_count": 11,
     "metadata": {},
     "output_type": "execute_result"
    },
    {
     "data": {
      "image/png": "[encoded data removed]",
      "text/plain": [
       "<matplotlib.figure.Figure at 0x1f287f3c860>"
      ]
     },
     "metadata": {},
     "output_type": "display_data"
    }
   ],
   "source": [
    "result.plot()"
   ]
  },
  {
   "cell_type": "code",
   "execution_count": 12,
   "metadata": {},
   "outputs": [],
   "source": [
    "result2 = pd.read_csv('Desktop/TFM/result_2.csv',index_col='fecha')"
   ]
  },
  {
   "cell_type": "code",
   "execution_count": 13,
   "metadata": {},
   "outputs": [
    {
     "data": {
      "text/html": [
       "<div>\n",
       "<style>\n",
       "    .dataframe thead tr:only-child th {\n",
       "        text-align: right;\n",
       "    }\n",
       "\n",
       "    .dataframe thead th {\n",
       "        text-align: left;\n",
       "    }\n",
       "\n",
       "    .dataframe tbody tr th {\n",
       "        vertical-align: top;\n",
       "    }\n",
       "</style>\n",
       "<table border=\"1\" class=\"dataframe\">\n",
       "  <thead>\n",
       "    <tr style=\"text-align: right;\">\n",
       "      <th></th>\n",
       "      <th>pm25</th>\n",
       "      <th>Generated</th>\n",
       "    </tr>\n",
       "    <tr>\n",
       "      <th>fecha</th>\n",
       "      <th></th>\n",
       "      <th></th>\n",
       "    </tr>\n",
       "  </thead>\n",
       "  <tbody>\n",
       "    <tr>\n",
       "      <th>2017-02-28 12:00:00</th>\n",
       "      <td>42</td>\n",
       "      <td>17.701124</td>\n",
       "    </tr>\n",
       "    <tr>\n",
       "      <th>2017-02-28 12:00:00</th>\n",
       "      <td>38</td>\n",
       "      <td>19.196114</td>\n",
       "    </tr>\n",
       "    <tr>\n",
       "      <th>2017-02-28 13:00:00</th>\n",
       "      <td>49</td>\n",
       "      <td>21.187609</td>\n",
       "    </tr>\n",
       "    <tr>\n",
       "      <th>2017-02-28 13:00:00</th>\n",
       "      <td>33</td>\n",
       "      <td>23.964006</td>\n",
       "    </tr>\n",
       "    <tr>\n",
       "      <th>2017-02-28 14:00:00</th>\n",
       "      <td>48</td>\n",
       "      <td>27.265034</td>\n",
       "    </tr>\n",
       "  </tbody>\n",
       "</table>\n",
       "</div>"
      ],
      "text/plain": [
       "                     pm25  Generated\n",
       "fecha                               \n",
       "2017-02-28 12:00:00    42  17.701124\n",
       "2017-02-28 12:00:00    38  19.196114\n",
       "2017-02-28 13:00:00    49  21.187609\n",
       "2017-02-28 13:00:00    33  23.964006\n",
       "2017-02-28 14:00:00    48  27.265034"
      ]
     },
     "execution_count": 13,
     "metadata": {},
     "output_type": "execute_result"
    }
   ],
   "source": [
    "result2.head()"
   ]
  },
  {
   "cell_type": "code",
   "execution_count": 14,
   "metadata": {},
   "outputs": [],
   "source": [
    "result2.index = pd.to_datetime(result.index)"
   ]
  },
  {
   "cell_type": "code",
   "execution_count": 15,
   "metadata": {},
   "outputs": [
    {
     "data": {
      "text/plain": [
       "<matplotlib.axes._subplots.AxesSubplot at 0x1f287f7d6a0>"
      ]
     },
     "execution_count": 15,
     "metadata": {},
     "output_type": "execute_result"
    },
    {
     "data": {
      "image/png": "[encoded data removed]",
      "text/plain": [
       "<matplotlib.figure.Figure at 0x1f2881e1550>"
      ]
     },
     "metadata": {},
     "output_type": "display_data"
    }
   ],
   "source": [
    "result2.plot()"
   ]
  },
  {
   "cell_type": "code",
   "execution_count": 16,
   "metadata": {},
   "outputs": [],
   "source": [
    "result3 = pd.read_csv('Desktop/TFM/result_3.csv',index_col='fecha')"
   ]
  },
  {
   "cell_type": "code",
   "execution_count": 17,
   "metadata": {},
   "outputs": [
    {
     "data": {
      "text/html": [
       "<div>\n",
       "<style>\n",
       "    .dataframe thead tr:only-child th {\n",
       "        text-align: right;\n",
       "    }\n",
       "\n",
       "    .dataframe thead th {\n",
       "        text-align: left;\n",
       "    }\n",
       "\n",
       "    .dataframe tbody tr th {\n",
       "        vertical-align: top;\n",
       "    }\n",
       "</style>\n",
       "<table border=\"1\" class=\"dataframe\">\n",
       "  <thead>\n",
       "    <tr style=\"text-align: right;\">\n",
       "      <th></th>\n",
       "      <th>pm25</th>\n",
       "      <th>Generated</th>\n",
       "    </tr>\n",
       "    <tr>\n",
       "      <th>fecha</th>\n",
       "      <th></th>\n",
       "      <th></th>\n",
       "    </tr>\n",
       "  </thead>\n",
       "  <tbody>\n",
       "    <tr>\n",
       "      <th>2017-02-28 12:00:00</th>\n",
       "      <td>42</td>\n",
       "      <td>17.317081</td>\n",
       "    </tr>\n",
       "    <tr>\n",
       "      <th>2017-02-28 12:00:00</th>\n",
       "      <td>38</td>\n",
       "      <td>19.766975</td>\n",
       "    </tr>\n",
       "    <tr>\n",
       "      <th>2017-02-28 13:00:00</th>\n",
       "      <td>49</td>\n",
       "      <td>22.489618</td>\n",
       "    </tr>\n",
       "    <tr>\n",
       "      <th>2017-02-28 13:00:00</th>\n",
       "      <td>33</td>\n",
       "      <td>25.115873</td>\n",
       "    </tr>\n",
       "    <tr>\n",
       "      <th>2017-02-28 14:00:00</th>\n",
       "      <td>48</td>\n",
       "      <td>27.326122</td>\n",
       "    </tr>\n",
       "  </tbody>\n",
       "</table>\n",
       "</div>"
      ],
      "text/plain": [
       "                     pm25  Generated\n",
       "fecha                               \n",
       "2017-02-28 12:00:00    42  17.317081\n",
       "2017-02-28 12:00:00    38  19.766975\n",
       "2017-02-28 13:00:00    49  22.489618\n",
       "2017-02-28 13:00:00    33  25.115873\n",
       "2017-02-28 14:00:00    48  27.326122"
      ]
     },
     "execution_count": 17,
     "metadata": {},
     "output_type": "execute_result"
    }
   ],
   "source": [
    "result3.head()\n"
   ]
  },
  {
   "cell_type": "code",
   "execution_count": 18,
   "metadata": {},
   "outputs": [],
   "source": [
    "result3.index = pd.to_datetime(result.index)"
   ]
  },
  {
   "cell_type": "code",
   "execution_count": 20,
   "metadata": {},
   "outputs": [
    {
     "data": {
      "text/plain": [
       "<matplotlib.axes._subplots.AxesSubplot at 0x1f2882ca668>"
      ]
     },
     "execution_count": 20,
     "metadata": {},
     "output_type": "execute_result"
    },
    {
     "data": {
      "image/png": "[encoded data removed]",
      "text/plain": [
       "<matplotlib.figure.Figure at 0x1f2882af748>"
      ]
     },
     "metadata": {},
     "output_type": "display_data"
    }
   ],
   "source": [
    "result3.plot()\n"
   ]
  },
  {
   "cell_type": "code",
   "execution_count": 27,
   "metadata": {},
   "outputs": [],
   "source": [
    "result4 = pd.read_csv('Desktop/TFM/result_4.csv',index_col='fecha')"
   ]
  },
  {
   "cell_type": "code",
   "execution_count": 34,
   "metadata": {},
   "outputs": [
    {
     "data": {
      "text/html": [
       "<div>\n",
       "<style>\n",
       "    .dataframe thead tr:only-child th {\n",
       "        text-align: right;\n",
       "    }\n",
       "\n",
       "    .dataframe thead th {\n",
       "        text-align: left;\n",
       "    }\n",
       "\n",
       "    .dataframe tbody tr th {\n",
       "        vertical-align: top;\n",
       "    }\n",
       "</style>\n",
       "<table border=\"1\" class=\"dataframe\">\n",
       "  <thead>\n",
       "    <tr style=\"text-align: right;\">\n",
       "      <th></th>\n",
       "      <th>pm25</th>\n",
       "      <th>Generated</th>\n",
       "    </tr>\n",
       "    <tr>\n",
       "      <th>fecha</th>\n",
       "      <th></th>\n",
       "      <th></th>\n",
       "    </tr>\n",
       "  </thead>\n",
       "  <tbody>\n",
       "    <tr>\n",
       "      <th>2017-02-28 18:00:00</th>\n",
       "      <td>37</td>\n",
       "      <td>16.895580</td>\n",
       "    </tr>\n",
       "    <tr>\n",
       "      <th>2017-02-28 18:00:00</th>\n",
       "      <td>15</td>\n",
       "      <td>18.916973</td>\n",
       "    </tr>\n",
       "    <tr>\n",
       "      <th>2017-02-28 19:00:00</th>\n",
       "      <td>37</td>\n",
       "      <td>21.485739</td>\n",
       "    </tr>\n",
       "    <tr>\n",
       "      <th>2017-02-28 19:00:00</th>\n",
       "      <td>26</td>\n",
       "      <td>24.984110</td>\n",
       "    </tr>\n",
       "    <tr>\n",
       "      <th>2017-02-28 20:00:00</th>\n",
       "      <td>33</td>\n",
       "      <td>28.078003</td>\n",
       "    </tr>\n",
       "  </tbody>\n",
       "</table>\n",
       "</div>"
      ],
      "text/plain": [
       "                     pm25  Generated\n",
       "fecha                               \n",
       "2017-02-28 18:00:00    37  16.895580\n",
       "2017-02-28 18:00:00    15  18.916973\n",
       "2017-02-28 19:00:00    37  21.485739\n",
       "2017-02-28 19:00:00    26  24.984110\n",
       "2017-02-28 20:00:00    33  28.078003"
      ]
     },
     "execution_count": 34,
     "metadata": {},
     "output_type": "execute_result"
    }
   ],
   "source": [
    "result4.head()"
   ]
  },
  {
   "cell_type": "code",
   "execution_count": 36,
   "metadata": {},
   "outputs": [],
   "source": [
    "result4.index = pd.to_datetime(result4.index)"
   ]
  },
  {
   "cell_type": "raw",
   "metadata": {},
   "source": []
  },
  {
   "cell_type": "code",
   "execution_count": 37,
   "metadata": {},
   "outputs": [
    {
     "data": {
      "text/plain": [
       "<matplotlib.axes._subplots.AxesSubplot at 0x1f2897810f0>"
      ]
     },
     "execution_count": 37,
     "metadata": {},
     "output_type": "execute_result"
    },
    {
     "data": {
      "image/png": "[encoded data removed]",
      "text/plain": [
       "<matplotlib.figure.Figure at 0x1f28977a898>"
      ]
     },
     "metadata": {},
     "output_type": "display_data"
    }
   ],
   "source": [
    "result4.plot()\n"
   ]
  },
  {
   "cell_type": "code",
   "execution_count": 38,
   "metadata": {},
   "outputs": [],
   "source": [
    "result5 = pd.read_csv('Desktop/TFM/result_5.csv',index_col='fecha')"
   ]
  },
  {
   "cell_type": "code",
   "execution_count": 39,
   "metadata": {},
   "outputs": [
    {
     "data": {
      "text/html": [
       "<div>\n",
       "<style>\n",
       "    .dataframe thead tr:only-child th {\n",
       "        text-align: right;\n",
       "    }\n",
       "\n",
       "    .dataframe thead th {\n",
       "        text-align: left;\n",
       "    }\n",
       "\n",
       "    .dataframe tbody tr th {\n",
       "        vertical-align: top;\n",
       "    }\n",
       "</style>\n",
       "<table border=\"1\" class=\"dataframe\">\n",
       "  <thead>\n",
       "    <tr style=\"text-align: right;\">\n",
       "      <th></th>\n",
       "      <th>pm25</th>\n",
       "      <th>Generated</th>\n",
       "    </tr>\n",
       "    <tr>\n",
       "      <th>fecha</th>\n",
       "      <th></th>\n",
       "      <th></th>\n",
       "    </tr>\n",
       "  </thead>\n",
       "  <tbody>\n",
       "    <tr>\n",
       "      <th>2017-02-28 18:00:00</th>\n",
       "      <td>37</td>\n",
       "      <td>17.265902</td>\n",
       "    </tr>\n",
       "    <tr>\n",
       "      <th>2017-02-28 18:00:00</th>\n",
       "      <td>15</td>\n",
       "      <td>18.812553</td>\n",
       "    </tr>\n",
       "    <tr>\n",
       "      <th>2017-02-28 19:00:00</th>\n",
       "      <td>37</td>\n",
       "      <td>21.722502</td>\n",
       "    </tr>\n",
       "    <tr>\n",
       "      <th>2017-02-28 19:00:00</th>\n",
       "      <td>26</td>\n",
       "      <td>24.457243</td>\n",
       "    </tr>\n",
       "    <tr>\n",
       "      <th>2017-02-28 20:00:00</th>\n",
       "      <td>33</td>\n",
       "      <td>27.407644</td>\n",
       "    </tr>\n",
       "  </tbody>\n",
       "</table>\n",
       "</div>"
      ],
      "text/plain": [
       "                     pm25  Generated\n",
       "fecha                               \n",
       "2017-02-28 18:00:00    37  17.265902\n",
       "2017-02-28 18:00:00    15  18.812553\n",
       "2017-02-28 19:00:00    37  21.722502\n",
       "2017-02-28 19:00:00    26  24.457243\n",
       "2017-02-28 20:00:00    33  27.407644"
      ]
     },
     "execution_count": 39,
     "metadata": {},
     "output_type": "execute_result"
    }
   ],
   "source": [
    "result5.head()\n"
   ]
  },
  {
   "cell_type": "code",
   "execution_count": 40,
   "metadata": {},
   "outputs": [],
   "source": [
    "result5.index = pd.to_datetime(result5.index)"
   ]
  },
  {
   "cell_type": "code",
   "execution_count": 41,
   "metadata": {},
   "outputs": [
    {
     "data": {
      "text/plain": [
       "<matplotlib.axes._subplots.AxesSubplot at 0x1f287c6f908>"
      ]
     },
     "execution_count": 41,
     "metadata": {},
     "output_type": "execute_result"
    },
    {
     "data": {
      "image/png": "[encoded data removed]",
      "text/plain": [
       "<matplotlib.figure.Figure at 0x1f2882efbe0>"
      ]
     },
     "metadata": {},
     "output_type": "display_data"
    }
   ],
   "source": [
    "result5.plot()"
   ]
  },
  {
   "cell_type": "code",
   "execution_count": 47,
   "metadata": {},
   "outputs": [],
   "source": [
    "result6 = pd.read_csv('Desktop/TFM/result_6.csv',index_col='fecha')"
   ]
  },
  {
   "cell_type": "raw",
   "metadata": {},
   "source": [
    "result6.head()\n",
    "\n"
   ]
  },
  {
   "cell_type": "code",
   "execution_count": 48,
   "metadata": {},
   "outputs": [
    {
     "data": {
      "text/html": [
       "<div>\n",
       "<style>\n",
       "    .dataframe thead tr:only-child th {\n",
       "        text-align: right;\n",
       "    }\n",
       "\n",
       "    .dataframe thead th {\n",
       "        text-align: left;\n",
       "    }\n",
       "\n",
       "    .dataframe tbody tr th {\n",
       "        vertical-align: top;\n",
       "    }\n",
       "</style>\n",
       "<table border=\"1\" class=\"dataframe\">\n",
       "  <thead>\n",
       "    <tr style=\"text-align: right;\">\n",
       "      <th></th>\n",
       "      <th>pm25</th>\n",
       "      <th>Generated</th>\n",
       "    </tr>\n",
       "    <tr>\n",
       "      <th>fecha</th>\n",
       "      <th></th>\n",
       "      <th></th>\n",
       "    </tr>\n",
       "  </thead>\n",
       "  <tbody>\n",
       "    <tr>\n",
       "      <th>2017-02-28 12:00:00</th>\n",
       "      <td>42</td>\n",
       "      <td>36.799278</td>\n",
       "    </tr>\n",
       "    <tr>\n",
       "      <th>2017-02-28 12:00:00</th>\n",
       "      <td>38</td>\n",
       "      <td>37.945126</td>\n",
       "    </tr>\n",
       "    <tr>\n",
       "      <th>2017-02-28 13:00:00</th>\n",
       "      <td>49</td>\n",
       "      <td>33.601170</td>\n",
       "    </tr>\n",
       "    <tr>\n",
       "      <th>2017-02-28 13:00:00</th>\n",
       "      <td>33</td>\n",
       "      <td>33.795731</td>\n",
       "    </tr>\n",
       "    <tr>\n",
       "      <th>2017-02-28 14:00:00</th>\n",
       "      <td>48</td>\n",
       "      <td>30.651400</td>\n",
       "    </tr>\n",
       "  </tbody>\n",
       "</table>\n",
       "</div>"
      ],
      "text/plain": [
       "                     pm25  Generated\n",
       "fecha                               \n",
       "2017-02-28 12:00:00    42  36.799278\n",
       "2017-02-28 12:00:00    38  37.945126\n",
       "2017-02-28 13:00:00    49  33.601170\n",
       "2017-02-28 13:00:00    33  33.795731\n",
       "2017-02-28 14:00:00    48  30.651400"
      ]
     },
     "execution_count": 48,
     "metadata": {},
     "output_type": "execute_result"
    }
   ],
   "source": [
    "result6.head()"
   ]
  },
  {
   "cell_type": "code",
   "execution_count": 49,
   "metadata": {},
   "outputs": [],
   "source": [
    "result6.index = pd.to_datetime(result6.index)"
   ]
  },
  {
   "cell_type": "code",
   "execution_count": 50,
   "metadata": {},
   "outputs": [
    {
     "data": {
      "text/plain": [
       "<matplotlib.axes._subplots.AxesSubplot at 0x1f2897d0278>"
      ]
     },
     "execution_count": 50,
     "metadata": {},
     "output_type": "execute_result"
    },
    {
     "data": {
      "image/png": "[encoded data removed]",
      "text/plain": [
       "<matplotlib.figure.Figure at 0x1f2898531d0>"
      ]
     },
     "metadata": {},
     "output_type": "display_data"
    }
   ],
   "source": [
    "result6.plot()"
   ]
  },
  {
   "cell_type": "code",
   "execution_count": 63,
   "metadata": {},
   "outputs": [],
   "source": [
    "result7 = pd.read_csv('Desktop/TFM/result_7.csv',index_col='fecha')"
   ]
  },
  {
   "cell_type": "code",
   "execution_count": 64,
   "metadata": {},
   "outputs": [
    {
     "data": {
      "text/html": [
       "<div>\n",
       "<style>\n",
       "    .dataframe thead tr:only-child th {\n",
       "        text-align: right;\n",
       "    }\n",
       "\n",
       "    .dataframe thead th {\n",
       "        text-align: left;\n",
       "    }\n",
       "\n",
       "    .dataframe tbody tr th {\n",
       "        vertical-align: top;\n",
       "    }\n",
       "</style>\n",
       "<table border=\"1\" class=\"dataframe\">\n",
       "  <thead>\n",
       "    <tr style=\"text-align: right;\">\n",
       "      <th></th>\n",
       "      <th>pm25</th>\n",
       "      <th>Generated</th>\n",
       "    </tr>\n",
       "    <tr>\n",
       "      <th>fecha</th>\n",
       "      <th></th>\n",
       "      <th></th>\n",
       "    </tr>\n",
       "  </thead>\n",
       "  <tbody>\n",
       "    <tr>\n",
       "      <th>2017-02-28 00:00:00</th>\n",
       "      <td>23</td>\n",
       "      <td>18.728436</td>\n",
       "    </tr>\n",
       "    <tr>\n",
       "      <th>2017-02-28 00:00:00</th>\n",
       "      <td>22</td>\n",
       "      <td>21.909750</td>\n",
       "    </tr>\n",
       "    <tr>\n",
       "      <th>2017-02-28 01:00:00</th>\n",
       "      <td>23</td>\n",
       "      <td>20.689571</td>\n",
       "    </tr>\n",
       "    <tr>\n",
       "      <th>2017-02-28 01:00:00</th>\n",
       "      <td>24</td>\n",
       "      <td>23.250790</td>\n",
       "    </tr>\n",
       "    <tr>\n",
       "      <th>2017-02-28 02:00:00</th>\n",
       "      <td>25</td>\n",
       "      <td>22.153822</td>\n",
       "    </tr>\n",
       "  </tbody>\n",
       "</table>\n",
       "</div>"
      ],
      "text/plain": [
       "                     pm25  Generated\n",
       "fecha                               \n",
       "2017-02-28 00:00:00    23  18.728436\n",
       "2017-02-28 00:00:00    22  21.909750\n",
       "2017-02-28 01:00:00    23  20.689571\n",
       "2017-02-28 01:00:00    24  23.250790\n",
       "2017-02-28 02:00:00    25  22.153822"
      ]
     },
     "execution_count": 64,
     "metadata": {},
     "output_type": "execute_result"
    }
   ],
   "source": [
    "result7.head()"
   ]
  },
  {
   "cell_type": "code",
   "execution_count": 78,
   "metadata": {},
   "outputs": [],
   "source": [
    "result7.index = pd.to_datetime(result7.index)\n"
   ]
  },
  {
   "cell_type": "code",
   "execution_count": 79,
   "metadata": {},
   "outputs": [
    {
     "data": {
      "text/plain": [
       "<matplotlib.axes._subplots.AxesSubplot at 0x1f289b27b00>"
      ]
     },
     "execution_count": 79,
     "metadata": {},
     "output_type": "execute_result"
    },
    {
     "data": {
      "image/png": "[encoded data removed]",
      "text/plain": [
       "<matplotlib.figure.Figure at 0x1f289c056d8>"
      ]
     },
     "metadata": {},
     "output_type": "display_data"
    }
   ],
   "source": [
    "result7.plot()"
   ]
  },
  {
   "cell_type": "code",
   "execution_count": 93,
   "metadata": {},
   "outputs": [],
   "source": [
    "result8 = pd.read_csv('Desktop/TFM/result_8.csv',index_col='fecha')"
   ]
  },
  {
   "cell_type": "code",
   "execution_count": 90,
   "metadata": {},
   "outputs": [
    {
     "data": {
      "text/html": [
       "<div>\n",
       "<style>\n",
       "    .dataframe thead tr:only-child th {\n",
       "        text-align: right;\n",
       "    }\n",
       "\n",
       "    .dataframe thead th {\n",
       "        text-align: left;\n",
       "    }\n",
       "\n",
       "    .dataframe tbody tr th {\n",
       "        vertical-align: top;\n",
       "    }\n",
       "</style>\n",
       "<table border=\"1\" class=\"dataframe\">\n",
       "  <thead>\n",
       "    <tr style=\"text-align: right;\">\n",
       "      <th></th>\n",
       "      <th>pm25</th>\n",
       "      <th>Generated</th>\n",
       "    </tr>\n",
       "    <tr>\n",
       "      <th>fecha</th>\n",
       "      <th></th>\n",
       "      <th></th>\n",
       "    </tr>\n",
       "  </thead>\n",
       "  <tbody>\n",
       "    <tr>\n",
       "      <th>2017-02-28 12:00:00</th>\n",
       "      <td>42</td>\n",
       "      <td>18.217714</td>\n",
       "    </tr>\n",
       "    <tr>\n",
       "      <th>2017-02-28 12:00:00</th>\n",
       "      <td>38</td>\n",
       "      <td>19.947704</td>\n",
       "    </tr>\n",
       "    <tr>\n",
       "      <th>2017-02-28 13:00:00</th>\n",
       "      <td>49</td>\n",
       "      <td>22.748569</td>\n",
       "    </tr>\n",
       "    <tr>\n",
       "      <th>2017-02-28 13:00:00</th>\n",
       "      <td>33</td>\n",
       "      <td>25.670521</td>\n",
       "    </tr>\n",
       "    <tr>\n",
       "      <th>2017-02-28 14:00:00</th>\n",
       "      <td>48</td>\n",
       "      <td>27.418135</td>\n",
       "    </tr>\n",
       "  </tbody>\n",
       "</table>\n",
       "</div>"
      ],
      "text/plain": [
       "                     pm25  Generated\n",
       "fecha                               \n",
       "2017-02-28 12:00:00    42  18.217714\n",
       "2017-02-28 12:00:00    38  19.947704\n",
       "2017-02-28 13:00:00    49  22.748569\n",
       "2017-02-28 13:00:00    33  25.670521\n",
       "2017-02-28 14:00:00    48  27.418135"
      ]
     },
     "execution_count": 90,
     "metadata": {},
     "output_type": "execute_result"
    }
   ],
   "source": [
    "result.head()\n"
   ]
  },
  {
   "cell_type": "code",
   "execution_count": 94,
   "metadata": {},
   "outputs": [],
   "source": [
    "result8.index = pd.to_datetime(result8.index)\n"
   ]
  },
  {
   "cell_type": "code",
   "execution_count": 95,
   "metadata": {},
   "outputs": [
    {
     "data": {
      "text/plain": [
       "<matplotlib.axes._subplots.AxesSubplot at 0x1f289c8ba90>"
      ]
     },
     "execution_count": 95,
     "metadata": {},
     "output_type": "execute_result"
    },
    {
     "data": {
      "image/png": "[encoded data removed]",
      "text/plain": [
       "<matplotlib.figure.Figure at 0x1f289de75f8>"
      ]
     },
     "metadata": {},
     "output_type": "display_data"
    }
   ],
   "source": [
    "result8.plot()\n",
    "\n"
   ]
  },
  {
   "cell_type": "raw",
   "metadata": {},
   "source": [
    "\n"
   ]
  },
  {
   "cell_type": "code",
   "execution_count": 97,
   "metadata": {},
   "outputs": [],
   "source": [
    "result9 = pd.read_csv('Desktop/TFM/result_9.csv',index_col='fecha')"
   ]
  },
  {
   "cell_type": "raw",
   "metadata": {},
   "source": []
  },
  {
   "cell_type": "code",
   "execution_count": 98,
   "metadata": {},
   "outputs": [
    {
     "data": {
      "text/html": [
       "<div>\n",
       "<style>\n",
       "    .dataframe thead tr:only-child th {\n",
       "        text-align: right;\n",
       "    }\n",
       "\n",
       "    .dataframe thead th {\n",
       "        text-align: left;\n",
       "    }\n",
       "\n",
       "    .dataframe tbody tr th {\n",
       "        vertical-align: top;\n",
       "    }\n",
       "</style>\n",
       "<table border=\"1\" class=\"dataframe\">\n",
       "  <thead>\n",
       "    <tr style=\"text-align: right;\">\n",
       "      <th></th>\n",
       "      <th>pm25</th>\n",
       "      <th>Generated</th>\n",
       "    </tr>\n",
       "    <tr>\n",
       "      <th>fecha</th>\n",
       "      <th></th>\n",
       "      <th></th>\n",
       "    </tr>\n",
       "  </thead>\n",
       "  <tbody>\n",
       "    <tr>\n",
       "      <th>2017-02-25 11:00:00</th>\n",
       "      <td>65</td>\n",
       "      <td>76.852615</td>\n",
       "    </tr>\n",
       "    <tr>\n",
       "      <th>2017-02-25 11:00:00</th>\n",
       "      <td>49</td>\n",
       "      <td>50.751881</td>\n",
       "    </tr>\n",
       "    <tr>\n",
       "      <th>2017-02-25 12:00:00</th>\n",
       "      <td>52</td>\n",
       "      <td>64.440216</td>\n",
       "    </tr>\n",
       "    <tr>\n",
       "      <th>2017-02-25 12:00:00</th>\n",
       "      <td>45</td>\n",
       "      <td>37.894894</td>\n",
       "    </tr>\n",
       "    <tr>\n",
       "      <th>2017-02-25 13:00:00</th>\n",
       "      <td>54</td>\n",
       "      <td>57.149483</td>\n",
       "    </tr>\n",
       "  </tbody>\n",
       "</table>\n",
       "</div>"
      ],
      "text/plain": [
       "                     pm25  Generated\n",
       "fecha                               \n",
       "2017-02-25 11:00:00    65  76.852615\n",
       "2017-02-25 11:00:00    49  50.751881\n",
       "2017-02-25 12:00:00    52  64.440216\n",
       "2017-02-25 12:00:00    45  37.894894\n",
       "2017-02-25 13:00:00    54  57.149483"
      ]
     },
     "execution_count": 98,
     "metadata": {},
     "output_type": "execute_result"
    }
   ],
   "source": [
    "result9.head()"
   ]
  },
  {
   "cell_type": "code",
   "execution_count": 99,
   "metadata": {},
   "outputs": [],
   "source": [
    "result9.index = pd.to_datetime(result9.index)"
   ]
  },
  {
   "cell_type": "code",
   "execution_count": 100,
   "metadata": {},
   "outputs": [
    {
     "data": {
      "text/plain": [
       "<matplotlib.axes._subplots.AxesSubplot at 0x1f289e4c550>"
      ]
     },
     "execution_count": 100,
     "metadata": {},
     "output_type": "execute_result"
    },
    {
     "data": {
      "image/png": "[encoded data removed]",
      "text/plain": [
       "<matplotlib.figure.Figure at 0x1f28993da20>"
      ]
     },
     "metadata": {},
     "output_type": "display_data"
    }
   ],
   "source": [
    "result9.plot()"
   ]
  },
  {
   "cell_type": "code",
   "execution_count": 101,
   "metadata": {},
   "outputs": [],
   "source": [
    "result11 = pd.read_csv('Desktop/TFM/result_11.csv',index_col='fecha')"
   ]
  },
  {
   "cell_type": "code",
   "execution_count": 102,
   "metadata": {},
   "outputs": [
    {
     "data": {
      "text/html": [
       "<div>\n",
       "<style>\n",
       "    .dataframe thead tr:only-child th {\n",
       "        text-align: right;\n",
       "    }\n",
       "\n",
       "    .dataframe thead th {\n",
       "        text-align: left;\n",
       "    }\n",
       "\n",
       "    .dataframe tbody tr th {\n",
       "        vertical-align: top;\n",
       "    }\n",
       "</style>\n",
       "<table border=\"1\" class=\"dataframe\">\n",
       "  <thead>\n",
       "    <tr style=\"text-align: right;\">\n",
       "      <th></th>\n",
       "      <th>pm25</th>\n",
       "      <th>Generated</th>\n",
       "    </tr>\n",
       "    <tr>\n",
       "      <th>fecha</th>\n",
       "      <th></th>\n",
       "      <th></th>\n",
       "    </tr>\n",
       "  </thead>\n",
       "  <tbody>\n",
       "    <tr>\n",
       "      <th>2017-02-25 11:00:00</th>\n",
       "      <td>65</td>\n",
       "      <td>80.066028</td>\n",
       "    </tr>\n",
       "    <tr>\n",
       "      <th>2017-02-25 11:00:00</th>\n",
       "      <td>49</td>\n",
       "      <td>55.188032</td>\n",
       "    </tr>\n",
       "    <tr>\n",
       "      <th>2017-02-25 12:00:00</th>\n",
       "      <td>52</td>\n",
       "      <td>70.417828</td>\n",
       "    </tr>\n",
       "    <tr>\n",
       "      <th>2017-02-25 12:00:00</th>\n",
       "      <td>45</td>\n",
       "      <td>50.040147</td>\n",
       "    </tr>\n",
       "    <tr>\n",
       "      <th>2017-02-25 13:00:00</th>\n",
       "      <td>54</td>\n",
       "      <td>63.967096</td>\n",
       "    </tr>\n",
       "  </tbody>\n",
       "</table>\n",
       "</div>"
      ],
      "text/plain": [
       "                      pm25  Generated\n",
       "fecha                                \n",
       "2017-02-25 11:00:00     65  80.066028\n",
       "2017-02-25 11:00:00     49  55.188032\n",
       "2017-02-25 12:00:00     52  70.417828\n",
       "2017-02-25 12:00:00     45  50.040147\n",
       "2017-02-25 13:00:00     54  63.967096"
      ]
     },
     "execution_count": 102,
     "metadata": {},
     "output_type": "execute_result"
    }
   ],
   "source": [
    "result11.head()"
   ]
  },
  {
   "cell_type": "code",
   "execution_count": 103,
   "metadata": {},
   "outputs": [],
   "source": [
    "result11.index = pd.to_datetime(result11.index)\n"
   ]
  },
  {
   "cell_type": "code",
   "execution_count": 104,
   "metadata": {},
   "outputs": [
    {
     "data": {
      "text/plain": [
       "<matplotlib.axes._subplots.AxesSubplot at 0x1f289e4ca58>"
      ]
     },
     "execution_count": 104,
     "metadata": {},
     "output_type": "execute_result"
    },
    {
     "data": {
      "image/png": "[encoded data removed]",
      "text/plain": [
       "<matplotlib.figure.Figure at 0x1f289ea14e0>"
      ]
     },
     "metadata": {},
     "output_type": "display_data"
    }
   ],
   "source": [
    "result11.plot()"
   ]
  },
  {
   "cell_type": "code",
   "execution_count": 1,
   "metadata": {},
   "outputs": [
    {
     "ename": "NameError",
     "evalue": "name 'pd' is not defined",
     "output_type": "error",
     "traceback": [
      "\u001b[1;31m---------------------------------------------------------------------------\u001b[0m",
      "\u001b[1;31mNameError\u001b[0m                                 Traceback (most recent call last)",
      "\u001b[1;32m<ipython-input-1-68da2004787a>\u001b[0m in \u001b[0;36m<module>\u001b[1;34m()\u001b[0m\n\u001b[1;32m----> 1\u001b[1;33m \u001b[0mdf\u001b[0m\u001b[1;33m=\u001b[0m \u001b[0mpd\u001b[0m\u001b[1;33m.\u001b[0m\u001b[0mread_csv\u001b[0m\u001b[1;33m(\u001b[0m\u001b[1;34m'Desktop/Libro1.csv'\u001b[0m\u001b[1;33m)\u001b[0m\u001b[1;33m\u001b[0m\u001b[0m\n\u001b[0m",
      "\u001b[1;31mNameError\u001b[0m: name 'pd' is not defined"
     ]
    }
   ],
   "source": [
    "df= pd.read_csv('Desktop/Libro1.csv')"
   ]
  },
  {
   "cell_type": "code",
   "execution_count": null,
   "metadata": {},
   "outputs": [],
   "source": []
  }
 ],
 "metadata": {
  "kernelspec": {
   "display_name": "Python 3",
   "language": "python",
   "name": "python3"
  },
  "language_info": {
   "codemirror_mode": {
    "name": "ipython",
    "version": 3
   },
   "file_extension": ".py",
   "mimetype": "text/x-python",
   "name": "python",
   "nbconvert_exporter": "python",
   "pygments_lexer": "ipython3",
   "version": "3.6.3"
  }
 },
 "nbformat": 4,
 "nbformat_minor": 2
}
